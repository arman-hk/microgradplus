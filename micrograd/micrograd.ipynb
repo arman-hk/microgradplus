{
  "cells": [
    {
      "cell_type": "markdown",
      "metadata": {
        "id": "-LwA0p6912E2"
      },
      "source": [
        "# Studying micrograd + Building it from scratch"
      ]
    },
    {
      "cell_type": "markdown",
      "metadata": {
        "id": "ay-x5YF0yH3j"
      },
      "source": [
        "### engine.py"
      ]
    },
    {
      "cell_type": "code",
      "execution_count": 1,
      "metadata": {
        "id": "iN3Wgj9qgPdj"
      },
      "outputs": [],
      "source": [
        "from math import exp\n",
        "import numpy as np\n",
        "import torch"
      ]
    },
    {
      "cell_type": "code",
      "execution_count": 2,
      "metadata": {
        "id": "GmYKLa8S2Mkn"
      },
      "outputs": [],
      "source": [
        "class Value:\n",
        "    def __init__(self, data, _children=(), _op=\"\"):\n",
        "        self.data = data\n",
        "        self.grad = 0.0\n",
        "        # internal variables\n",
        "        self._backward = lambda: None\n",
        "        self._prev = set(_children) # stores previous objects\n",
        "        self._op = _op # stores the operation\n",
        "    \n",
        "    def __add__(self, other): # addition\n",
        "        other = other if isinstance(other, Value) else Value(other)\n",
        "        out = Value(self.data + other.data, (self, other), '+')\n",
        "        def _backward():\n",
        "            self.grad += 1.0 * out.grad\n",
        "            other.grad += 1.0 * out.grad\n",
        "        out._backward = _backward\n",
        "        return out\n",
        "\n",
        "    def __mul__(self, other): # multiplication\n",
        "        other = other if isinstance(other, Value) else Value(other)\n",
        "        out = Value(self.data * other.data, (self, other), '*')\n",
        "        def _backward():\n",
        "            self.grad += other.data * out.grad\n",
        "            other.grad += self.data * out.grad\n",
        "        out._backward = _backward\n",
        "        return out\n",
        "    \n",
        "    def __pow__(self, other): # power function\n",
        "        assert isinstance(other, (int, float)), \"must be a number not a Value\"\n",
        "        out = Value(self.data ** other, (self,), \"**\")\n",
        "        def _backward():\n",
        "            self.grad += (other * self.data ** (other - 1)) * out.grad\n",
        "        out._backward = _backward\n",
        "        return out\n",
        "\n",
        "    def relu(self): # relu function\n",
        "        out = Value(0 if self.data < 0 else self.data, (self,), \"ReLU\")\n",
        "        def _backward():\n",
        "            self.grad += (out.data > 0) * out.grad\n",
        "        out._backward = _backward\n",
        "        return out\n",
        "    \n",
        "    def backward(self): # performs backpropagation to calculate gradients for all the nodes\n",
        "    \n",
        "        # topological order\n",
        "        topo = []\n",
        "        visited = set()\n",
        "        def build_topo(v):\n",
        "            if v not in visited:\n",
        "                visited.add(v)\n",
        "                for child in v._prev:\n",
        "                    build_topo(child)\n",
        "                topo.append(v)\n",
        "        build_topo(self)\n",
        "        # applies chain rule one var at a time\n",
        "        self.grad = 1.0\n",
        "        for node in reversed(topo):\n",
        "            node._backward()\n",
        "    \n",
        "    def __neg__(self): # negative function\n",
        "        return self * -1\n",
        "\n",
        "    def __sub__(self, other): # subtraction\n",
        "        return self + (-other)\n",
        "    \n",
        "    def __radd__(self, other): # rev addition\n",
        "        return self + other\n",
        "    \n",
        "    def __rsub__(self, other): # rev subtraction\n",
        "        return other + (-self)\n",
        "    \n",
        "    def __rmul__(self, other): # rev multiplication\n",
        "        return self * other\n",
        "    \n",
        "    def __truediv__(self, other): # true division\n",
        "        return self * other**-1\n",
        "    \n",
        "    def __rtruediv__(self, other): # rev true division\n",
        "        return other * self**-1\n",
        "    \n",
        "    def __repr__(self):\n",
        "        return f\"Value(data={self.data}, grad={self.grad})\" # stores the value and it's grad"
      ]
    },
    {
      "cell_type": "markdown",
      "source": [
        "### test_engine.py"
      ],
      "metadata": {
        "id": "8v2KmdPZUkaX"
      }
    },
    {
      "cell_type": "code",
      "source": [
        "def test_sanity_check():\n",
        "\n",
        "    x = Value(-4.0)\n",
        "    z = 2 * x + 2 + x\n",
        "    q = z.relu() + z * x\n",
        "    h = (z * z).relu()\n",
        "    y = h + q + q * x\n",
        "    y.backward()\n",
        "    xmg, ymg = x, y\n",
        "\n",
        "    x = torch.Tensor([-4.0]).double()\n",
        "    x.requires_grad = True\n",
        "    z = 2 * x + 2 + x\n",
        "    q = z.relu() + z * x\n",
        "    h = (z * z).relu()\n",
        "    y = h + q + q * x\n",
        "    y.backward()\n",
        "    xpt, ypt = x, y\n",
        "\n",
        "    # forward pass went well\n",
        "    assert ymg.data == ypt.data.item()\n",
        "    # backward pass went well\n",
        "    assert xmg.grad == xpt.grad.item()\n",
        "\n",
        "    print(\"test_sanity_check passed!\")\n",
        "\n",
        "def test_more_ops():\n",
        "\n",
        "    a = Value(-4.0)\n",
        "    b = Value(2.0)\n",
        "    c = a + b\n",
        "    d = a * b + b**3\n",
        "    c += c + 1\n",
        "    c += 1 + c + (-a)\n",
        "    d += d * 2 + (b + a).relu()\n",
        "    d += 3 * d + (b - a).relu()\n",
        "    e = c - d\n",
        "    f = e**2\n",
        "    g = f / 2.0\n",
        "    g += 10.0 / f\n",
        "    g.backward()\n",
        "    amg, bmg, gmg = a, b, g\n",
        "\n",
        "    a = torch.Tensor([-4.0]).double()\n",
        "    b = torch.Tensor([2.0]).double()\n",
        "    a.requires_grad = True\n",
        "    b.requires_grad = True\n",
        "    c = a + b\n",
        "    d = a * b + b**3\n",
        "    c = c + c + 1\n",
        "    c = c + 1 + c + (-a)\n",
        "    d = d + d * 2 + (b + a).relu()\n",
        "    d = d + 3 * d + (b - a).relu()\n",
        "    e = c - d\n",
        "    f = e**2\n",
        "    g = f / 2.0\n",
        "    g = g + 10.0 / f\n",
        "    g.backward()\n",
        "    apt, bpt, gpt = a, b, g\n",
        "\n",
        "    tol = 1e-6\n",
        "    # forward pass went well\n",
        "    assert abs(gmg.data - gpt.data.item()) < tol\n",
        "    # backward pass went well\n",
        "    assert abs(amg.grad - apt.grad.item()) < tol\n",
        "    assert abs(bmg.grad - bpt.grad.item()) < tol\n",
        "\n",
        "    print(\"test_more_ops passed!\")\n",
        "\n",
        "test_sanity_check()\n",
        "test_more_ops()"
      ],
      "metadata": {
        "colab": {
          "base_uri": "https://localhost:8080/"
        },
        "id": "T1H4vCREUvVv",
        "outputId": "ca09dde5-db1e-4882-8675-81ef301f7c4b"
      },
      "execution_count": 3,
      "outputs": [
        {
          "output_type": "stream",
          "name": "stdout",
          "text": [
            "test_sanity_check passed!\n",
            "test_more_ops passed!\n"
          ]
        }
      ]
    }
  ],
  "metadata": {
    "colab": {
      "provenance": []
    },
    "gpuClass": "standard",
    "kernelspec": {
      "display_name": "Python 3 (ipykernel)",
      "language": "python",
      "name": "python3"
    },
    "language_info": {
      "codemirror_mode": {
        "name": "ipython",
        "version": 3
      },
      "file_extension": ".py",
      "mimetype": "text/x-python",
      "name": "python",
      "nbconvert_exporter": "python",
      "pygments_lexer": "ipython3",
      "version": "3.9.16"
    }
  },
  "nbformat": 4,
  "nbformat_minor": 0
}