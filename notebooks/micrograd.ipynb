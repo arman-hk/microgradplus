{
  "nbformat": 4,
  "nbformat_minor": 0,
  "metadata": {
    "colab": {
      "provenance": []
    },
    "kernelspec": {
      "name": "python3",
      "display_name": "Python 3"
    },
    "language_info": {
      "name": "python"
    },
    "gpuClass": "standard"
  },
  "cells": [
    {
      "cell_type": "markdown",
      "source": [
        "# studying micrograd + building from scratch"
      ],
      "metadata": {
        "id": "-LwA0p6912E2"
      }
    },
    {
      "cell_type": "markdown",
      "source": [
        "4/27/2023 | addition and multiplication + backward function for gradient calculation"
      ],
      "metadata": {
        "id": "FcrjwDnWNPjy"
      }
    },
    {
      "cell_type": "code",
      "source": [
        "class Value:\n",
        "    def __init__(self, data, _children=(), _op=\"\"):\n",
        "        self.data = data\n",
        "        self.grad = 0.0\n",
        "\n",
        "        self.backward = lambda: None\n",
        "        self._prev = set(_children) # stores prevous objects\n",
        "        self._op = _op # stores the operation\n",
        "    \n",
        "    def __repr__(self):\n",
        "        return f\"Value(data={self.data})\"\n",
        "    \n",
        "    def __add__(self, other):\n",
        "        out = Value(self.data + other.data, (self, other), '+')\n",
        "        \n",
        "        def _backward(): # calculates the gradients\n",
        "            self.grad += 1.0 * out.grad\n",
        "            other.grad += 1.0 * out.grad\n",
        "        out._backward = _backward\n",
        "        return out\n",
        "\n",
        "    def __mul__(self, other):\n",
        "        out = Value(self.data * other.data, (self, other), '*')\n",
        "    \n",
        "        def _backward():\n",
        "            self.grad += other.data * out.grad\n",
        "            other.grad += self.data * out.grad\n",
        "        out._backward = _backward\n",
        "        return out"
      ],
      "metadata": {
        "id": "GmYKLa8S2Mkn"
      },
      "execution_count": 1,
      "outputs": []
    }
  ]
}