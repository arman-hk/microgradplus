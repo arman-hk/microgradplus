{
  "nbformat": 4,
  "nbformat_minor": 0,
  "metadata": {
    "colab": {
      "provenance": []
    },
    "kernelspec": {
      "name": "python3",
      "display_name": "Python 3"
    },
    "language_info": {
      "name": "python"
    },
    "gpuClass": "standard"
  },
  "cells": [
    {
      "cell_type": "markdown",
      "source": [
        "# Studying micrograd + Building it from scratch"
      ],
      "metadata": {
        "id": "-LwA0p6912E2"
      }
    },
    {
      "cell_type": "markdown",
      "source": [
        "# 4/30/2023"
      ],
      "metadata": {
        "id": "FcrjwDnWNPjy"
      }
    },
    {
      "cell_type": "markdown",
      "source": [
        "**I've added the following**\n",
        "\n",
        "1. A hyperbolic tangent function (tanh) and its corresponding backward function for gradient computation.\n",
        "2. A backpropagation method that computes gradients for all the nodes in the computational graph.\n",
        "3. An example that demonstrates how to use the\n",
        " Value class to perform various operations and compute gradients using backpropagation."
      ],
      "metadata": {
        "id": "e7-QZwiZ1kOH"
      }
    },
    {
      "cell_type": "code",
      "source": [
        "from math import exp\n",
        "import numpy as np"
      ],
      "metadata": {
        "id": "iN3Wgj9qgPdj"
      },
      "execution_count": 1,
      "outputs": []
    },
    {
      "cell_type": "code",
      "source": [
        "class Value:\n",
        "    def __init__(self, data, _children=(), _op=\"\"):\n",
        "        self.data = data\n",
        "        self.grad = 0.0\n",
        "\n",
        "        self._backward = lambda: None\n",
        "        self._prev = set(_children) # stores previous objects\n",
        "        self._op = _op # stores the operation\n",
        "    \n",
        "    def __repr__(self):\n",
        "        return f\"Value(data={self.data}, grad={self.grad})\" # added grad\n",
        "    \n",
        "    def __add__(self, other):\n",
        "        out = Value(self.data + other.data, (self, other), '+')\n",
        "        \n",
        "        def _backward():\n",
        "            self.grad += 1.0 * out.grad\n",
        "            other.grad += 1.0 * out.grad\n",
        "        out._backward = _backward\n",
        "        return out\n",
        "\n",
        "    def __mul__(self, other):\n",
        "        out = Value(self.data * other.data, (self, other), '*')\n",
        "    \n",
        "        def _backward():\n",
        "            self.grad += other.data * out.grad\n",
        "            other.grad += self.data * out.grad\n",
        "        out._backward = _backward\n",
        "        return out\n",
        "    \n",
        "    def tanh(self):\n",
        "        x = self.data\n",
        "        t = (exp(2*x) - 1)/(exp(2*x) + 1)\n",
        "        out = Value(t, (self, ), 'tanh')\n",
        "    \n",
        "        def _backward():\n",
        "            self.grad += (1 - t**2) * out.grad\n",
        "        out._backward = _backward\n",
        "        return out\n",
        "    \n",
        "    def backward(self): # performs backpropagation to calculate gradients for all the nodes\n",
        "    \n",
        "        topo = []\n",
        "        visited = set()\n",
        "        def build_topo(v):\n",
        "            if v not in visited:\n",
        "                visited.add(v)\n",
        "                for child in v._prev:\n",
        "                    build_topo(child)\n",
        "                topo.append(v)\n",
        "        build_topo(self)\n",
        "    \n",
        "        self.grad = 1.0\n",
        "        for node in reversed(topo):\n",
        "            node._backward()"
      ],
      "metadata": {
        "id": "GmYKLa8S2Mkn"
      },
      "execution_count": 2,
      "outputs": []
    },
    {
      "cell_type": "code",
      "source": [
        "# an example\n",
        "\n",
        "x = Value(2.0)\n",
        "y = Value(3.0)\n",
        "\n",
        "x_2 = x * x\n",
        "x_2_y = x_2 * y\n",
        "xy = x * y\n",
        "tanh_xy = xy.tanh()\n",
        "# func\n",
        "z = x_2_y + tanh_xy\n",
        "\n",
        "# grads\n",
        "z.backward()\n",
        "\n",
        "# results\n",
        "print(f\"x: {x}\")\n",
        "print(f\"y: {y}\")\n",
        "print(f\"X_2: {x_2}\")\n",
        "print(f\"x_2_y: {x_2_y}\")\n",
        "print(f\"xy: {xy}\")\n",
        "print(f\"tanh_xy: {tanh_xy}\")\n",
        "print(f\"z: {z}\")"
      ],
      "metadata": {
        "colab": {
          "base_uri": "https://localhost:8080/"
        },
        "id": "O_qANNKhrmTn",
        "outputId": "8135f42d-2c0b-4078-c35b-221f1df81699"
      },
      "execution_count": 3,
      "outputs": [
        {
          "output_type": "stream",
          "name": "stdout",
          "text": [
            "x: Value(data=2.0, grad=12.000073729642216)\n",
            "y: Value(data=3.0, grad=4.00004915309481)\n",
            "X_2: Value(data=4.0, grad=3.0)\n",
            "x_2_y: Value(data=12.0, grad=1.0)\n",
            "xy: Value(data=6.0, grad=2.4576547405286142e-05)\n",
            "tanh_xy: Value(data=0.9999877116507956, grad=1.0)\n",
            "z: Value(data=12.999987711650796, grad=1.0)\n"
          ]
        }
      ]
    }
  ]
}