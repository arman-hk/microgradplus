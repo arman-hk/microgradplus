{
  "nbformat": 4,
  "nbformat_minor": 0,
  "metadata": {
    "colab": {
      "provenance": []
    },
    "kernelspec": {
      "name": "python3",
      "display_name": "Python 3"
    },
    "language_info": {
      "name": "python"
    },
    "gpuClass": "standard"
  },
  "cells": [
    {
      "cell_type": "markdown",
      "source": [
        "# Studying micrograd + Building it from scratch"
      ],
      "metadata": {
        "id": "-LwA0p6912E2"
      }
    },
    {
      "cell_type": "markdown",
      "source": [
        "# 5/5/2023"
      ],
      "metadata": {
        "id": "FcrjwDnWNPjy"
      }
    },
    {
      "cell_type": "markdown",
      "source": [
        "**Changes:**\n",
        "\n",
        "1. A line that checks if `other` is an instance of `Value`. If `other` is not an instance of `Value`, it creates a new `Value` object with the data from `other`. This allows the addition operation to work with both `Value` objects and regular numbers (int or floats).\n",
        "2. Deleted `tanh` for now (because it's not part of micrograd)."
      ],
      "metadata": {
        "id": "e7-QZwiZ1kOH"
      }
    },
    {
      "cell_type": "code",
      "source": [
        "from math import exp\n",
        "import numpy as np"
      ],
      "metadata": {
        "id": "iN3Wgj9qgPdj"
      },
      "execution_count": 1,
      "outputs": []
    },
    {
      "cell_type": "code",
      "source": [
        "class Value:\n",
        "    def __init__(self, data, _children=(), _op=\"\"):\n",
        "        self.data = data\n",
        "        self.grad = 0.0\n",
        "        # internal variables\n",
        "        self._backward = lambda: None\n",
        "        self._prev = set(_children) # stores previous objects\n",
        "        self._op = _op # stores the operation\n",
        "    \n",
        "    def __repr__(self):\n",
        "        return f\"Value(data={self.data}, grad={self.grad})\" # stores the value and it's grad\n",
        "    \n",
        "    def __add__(self, other): # addition\n",
        "        out = Value(self.data + other.data, (self, other), '+')\n",
        "        other = other if isinstance(other, Value) else Value(other)\n",
        "        def _backward():\n",
        "            self.grad += 1.0 * out.grad\n",
        "            other.grad += 1.0 * out.grad\n",
        "        out._backward = _backward\n",
        "        return out\n",
        "\n",
        "    def __mul__(self, other): # multiplication\n",
        "        out = Value(self.data * other.data, (self, other), '*')\n",
        "        other = other if isinstance(other, Value) else Value(other)\n",
        "        def _backward():\n",
        "            self.grad += other.data * out.grad\n",
        "            other.grad += self.data * out.grad\n",
        "        out._backward = _backward\n",
        "        return out\n",
        "    \n",
        "    def backward(self): # performs backpropagation to calculate gradients for all the nodes\n",
        "    \n",
        "        # topological order\n",
        "        topo = []\n",
        "        visited = set()\n",
        "        def build_topo(v):\n",
        "            if v not in visited:\n",
        "                visited.add(v)\n",
        "                for child in v._prev:\n",
        "                    build_topo(child)\n",
        "                topo.append(v)\n",
        "        build_topo(self)\n",
        "        # applies chain rule one var at a time\n",
        "        self.grad = 1.0\n",
        "        for node in reversed(topo):\n",
        "            node._backward()"
      ],
      "metadata": {
        "id": "GmYKLa8S2Mkn"
      },
      "execution_count": 2,
      "outputs": []
    },
    {
      "cell_type": "code",
      "source": [
        "# an example\n",
        "\n",
        "x = Value(2.0)\n",
        "y = Value(3.0)\n",
        "\n",
        "x_2 = x * x\n",
        "x_2_y = x_2 * y\n",
        "xy = x * y\n",
        "\n",
        "# func\n",
        "z = x_2_y + xy\n",
        "\n",
        "# grads\n",
        "z.backward()\n",
        "\n",
        "# results\n",
        "print(f\"x: {x}\")\n",
        "print(f\"y: {y}\")\n",
        "print(f\"X_2: {x_2}\")\n",
        "print(f\"x_2_y: {x_2_y}\")\n",
        "print(f\"xy: {xy}\")\n",
        "print(f\"z: {z}\")"
      ],
      "metadata": {
        "colab": {
          "base_uri": "https://localhost:8080/"
        },
        "id": "O_qANNKhrmTn",
        "outputId": "202eb1ec-1d28-42e2-cf84-38371397894f"
      },
      "execution_count": 3,
      "outputs": [
        {
          "output_type": "stream",
          "name": "stdout",
          "text": [
            "x: Value(data=2.0, grad=15.0)\n",
            "y: Value(data=3.0, grad=6.0)\n",
            "X_2: Value(data=4.0, grad=3.0)\n",
            "x_2_y: Value(data=12.0, grad=1.0)\n",
            "xy: Value(data=6.0, grad=1.0)\n",
            "z: Value(data=18.0, grad=1.0)\n"
          ]
        }
      ]
    },
    {
      "cell_type": "code",
      "source": [
        "from graphviz import Digraph\n",
        "\n",
        "def trace(root): # builds a set of our nodes\n",
        "    nodes, edges = set(), set()\n",
        "\n",
        "    def build(v):\n",
        "        if v not in nodes:\n",
        "            nodes.add(v)\n",
        "            for child in v._prev:\n",
        "                edges.add((child, v))\n",
        "                build(child)\n",
        "\n",
        "    build(root)\n",
        "    return nodes, edges\n",
        "\n",
        "def draw_dot(root): # draws the SVG graph of our example\n",
        "    dot = Digraph(format='svg', graph_attr={'rankdir': 'LR'})\n",
        "    nodes, edges = trace(root)\n",
        "\n",
        "    for n in nodes:\n",
        "        uid = str(id(n))\n",
        "        op_label = n._op or \"input\"\n",
        "        dot.node(name=uid, label=\"{ %s | data %.4f | grad %.4f }\" % (op_label, n.data, n.grad), shape='record')\n",
        "\n",
        "        if n._op:\n",
        "            dot.node(name=uid + n._op, label=n._op)\n",
        "            dot.edge(uid + n._op, uid)\n",
        "\n",
        "    for n1, n2 in edges:\n",
        "        dot.edge(str(id(n1)), str(id(n2)) + n2._op)\n",
        "\n",
        "    return dot\n",
        "\n",
        "draw_dot(z)"
      ],
      "metadata": {
        "colab": {
          "base_uri": "https://localhost:8080/",
          "height": 187
        },
        "id": "wagzNqIoKQfY",
        "outputId": "41d6357c-b119-4182-b8e2-5e3a524d0247"
      },
      "execution_count": 4,
      "outputs": [
        {
          "output_type": "execute_result",
          "data": {
            "image/svg+xml": "<?xml version=\"1.0\" encoding=\"UTF-8\" standalone=\"no\"?>\n<!DOCTYPE svg PUBLIC \"-//W3C//DTD SVG 1.1//EN\"\n \"http://www.w3.org/Graphics/SVG/1.1/DTD/svg11.dtd\">\n<!-- Generated by graphviz version 2.43.0 (0)\n -->\n<!-- Title: %3 Pages: 1 -->\n<svg width=\"1191pt\" height=\"124pt\"\n viewBox=\"0.00 0.00 1191.00 124.00\" xmlns=\"http://www.w3.org/2000/svg\" xmlns:xlink=\"http://www.w3.org/1999/xlink\">\n<g id=\"graph0\" class=\"graph\" transform=\"scale(1 1) rotate(0) translate(4 120)\">\n<title>%3</title>\n<polygon fill=\"white\" stroke=\"transparent\" points=\"-4,4 -4,-120 1187,-120 1187,4 -4,4\"/>\n<!-- 140262344897584 -->\n<g id=\"node1\" class=\"node\">\n<title>140262344897584</title>\n<polygon fill=\"none\" stroke=\"black\" points=\"349.5,-79.5 349.5,-115.5 534.5,-115.5 534.5,-79.5 349.5,-79.5\"/>\n<text text-anchor=\"middle\" x=\"361\" y=\"-93.8\" font-family=\"Times,serif\" font-size=\"14.00\">*</text>\n<polyline fill=\"none\" stroke=\"black\" points=\"372.5,-79.5 372.5,-115.5 \"/>\n<text text-anchor=\"middle\" x=\"412.5\" y=\"-93.8\" font-family=\"Times,serif\" font-size=\"14.00\">data 4.0000</text>\n<polyline fill=\"none\" stroke=\"black\" points=\"452.5,-79.5 452.5,-115.5 \"/>\n<text text-anchor=\"middle\" x=\"493.5\" y=\"-93.8\" font-family=\"Times,serif\" font-size=\"14.00\">grad 3.0000</text>\n</g>\n<!-- 140262344896384* -->\n<g id=\"node8\" class=\"node\">\n<title>140262344896384*</title>\n<ellipse fill=\"none\" stroke=\"black\" cx=\"608\" cy=\"-73.5\" rx=\"27\" ry=\"18\"/>\n<text text-anchor=\"middle\" x=\"608\" y=\"-69.8\" font-family=\"Times,serif\" font-size=\"14.00\">*</text>\n</g>\n<!-- 140262344897584&#45;&gt;140262344896384* -->\n<g id=\"edge6\" class=\"edge\">\n<title>140262344897584&#45;&gt;140262344896384*</title>\n<path fill=\"none\" stroke=\"black\" d=\"M534.59,-84.1C547.6,-82.19 560.28,-80.34 571.31,-78.72\"/>\n<polygon fill=\"black\" stroke=\"black\" points=\"571.94,-82.17 581.32,-77.26 570.92,-75.24 571.94,-82.17\"/>\n</g>\n<!-- 140262344897584* -->\n<g id=\"node2\" class=\"node\">\n<title>140262344897584*</title>\n<ellipse fill=\"none\" stroke=\"black\" cx=\"276\" cy=\"-69.5\" rx=\"27\" ry=\"18\"/>\n<text text-anchor=\"middle\" x=\"276\" y=\"-65.8\" font-family=\"Times,serif\" font-size=\"14.00\">*</text>\n</g>\n<!-- 140262344897584*&#45;&gt;140262344897584 -->\n<g id=\"edge1\" class=\"edge\">\n<title>140262344897584*&#45;&gt;140262344897584</title>\n<path fill=\"none\" stroke=\"black\" d=\"M302.27,-73.81C312.75,-75.6 325.66,-77.81 339.35,-80.14\"/>\n<polygon fill=\"black\" stroke=\"black\" points=\"338.98,-83.63 349.43,-81.87 340.16,-76.73 338.98,-83.63\"/>\n</g>\n<!-- 140262344890096 -->\n<g id=\"node3\" class=\"node\">\n<title>140262344890096</title>\n<polygon fill=\"none\" stroke=\"black\" points=\"989,-27.5 989,-63.5 1183,-63.5 1183,-27.5 989,-27.5\"/>\n<text text-anchor=\"middle\" x=\"1001.5\" y=\"-41.8\" font-family=\"Times,serif\" font-size=\"14.00\">+</text>\n<polyline fill=\"none\" stroke=\"black\" points=\"1014,-27.5 1014,-63.5 \"/>\n<text text-anchor=\"middle\" x=\"1057.5\" y=\"-41.8\" font-family=\"Times,serif\" font-size=\"14.00\">data 18.0000</text>\n<polyline fill=\"none\" stroke=\"black\" points=\"1101,-27.5 1101,-63.5 \"/>\n<text text-anchor=\"middle\" x=\"1142\" y=\"-41.8\" font-family=\"Times,serif\" font-size=\"14.00\">grad 1.0000</text>\n</g>\n<!-- 140262344890096+ -->\n<g id=\"node4\" class=\"node\">\n<title>140262344890096+</title>\n<ellipse fill=\"none\" stroke=\"black\" cx=\"926\" cy=\"-45.5\" rx=\"27\" ry=\"18\"/>\n<text text-anchor=\"middle\" x=\"926\" y=\"-41.8\" font-family=\"Times,serif\" font-size=\"14.00\">+</text>\n</g>\n<!-- 140262344890096+&#45;&gt;140262344890096 -->\n<g id=\"edge2\" class=\"edge\">\n<title>140262344890096+&#45;&gt;140262344890096</title>\n<path fill=\"none\" stroke=\"black\" d=\"M953.09,-45.5C960.62,-45.5 969.34,-45.5 978.63,-45.5\"/>\n<polygon fill=\"black\" stroke=\"black\" points=\"978.92,-49 988.92,-45.5 978.92,-42 978.92,-49\"/>\n</g>\n<!-- 140262344891632 -->\n<g id=\"node5\" class=\"node\">\n<title>140262344891632</title>\n<polygon fill=\"none\" stroke=\"black\" points=\"674.5,-0.5 674.5,-36.5 859.5,-36.5 859.5,-0.5 674.5,-0.5\"/>\n<text text-anchor=\"middle\" x=\"686\" y=\"-14.8\" font-family=\"Times,serif\" font-size=\"14.00\">*</text>\n<polyline fill=\"none\" stroke=\"black\" points=\"697.5,-0.5 697.5,-36.5 \"/>\n<text text-anchor=\"middle\" x=\"737.5\" y=\"-14.8\" font-family=\"Times,serif\" font-size=\"14.00\">data 6.0000</text>\n<polyline fill=\"none\" stroke=\"black\" points=\"777.5,-0.5 777.5,-36.5 \"/>\n<text text-anchor=\"middle\" x=\"818.5\" y=\"-14.8\" font-family=\"Times,serif\" font-size=\"14.00\">grad 1.0000</text>\n</g>\n<!-- 140262344891632&#45;&gt;140262344890096+ -->\n<g id=\"edge9\" class=\"edge\">\n<title>140262344891632&#45;&gt;140262344890096+</title>\n<path fill=\"none\" stroke=\"black\" d=\"M859.78,-34.28C870.3,-36.09 880.48,-37.84 889.56,-39.4\"/>\n<polygon fill=\"black\" stroke=\"black\" points=\"889.21,-42.9 899.65,-41.14 890.39,-36 889.21,-42.9\"/>\n</g>\n<!-- 140262344891632* -->\n<g id=\"node6\" class=\"node\">\n<title>140262344891632*</title>\n<ellipse fill=\"none\" stroke=\"black\" cx=\"608\" cy=\"-18.5\" rx=\"27\" ry=\"18\"/>\n<text text-anchor=\"middle\" x=\"608\" y=\"-14.8\" font-family=\"Times,serif\" font-size=\"14.00\">*</text>\n</g>\n<!-- 140262344891632*&#45;&gt;140262344891632 -->\n<g id=\"edge3\" class=\"edge\">\n<title>140262344891632*&#45;&gt;140262344891632</title>\n<path fill=\"none\" stroke=\"black\" d=\"M635.28,-18.5C643.68,-18.5 653.54,-18.5 664.02,-18.5\"/>\n<polygon fill=\"black\" stroke=\"black\" points=\"664.22,-22 674.22,-18.5 664.22,-15 664.22,-22\"/>\n</g>\n<!-- 140262344896384 -->\n<g id=\"node7\" class=\"node\">\n<title>140262344896384</title>\n<polygon fill=\"none\" stroke=\"black\" points=\"671,-55.5 671,-91.5 863,-91.5 863,-55.5 671,-55.5\"/>\n<text text-anchor=\"middle\" x=\"682.5\" y=\"-69.8\" font-family=\"Times,serif\" font-size=\"14.00\">*</text>\n<polyline fill=\"none\" stroke=\"black\" points=\"694,-55.5 694,-91.5 \"/>\n<text text-anchor=\"middle\" x=\"737.5\" y=\"-69.8\" font-family=\"Times,serif\" font-size=\"14.00\">data 12.0000</text>\n<polyline fill=\"none\" stroke=\"black\" points=\"781,-55.5 781,-91.5 \"/>\n<text text-anchor=\"middle\" x=\"822\" y=\"-69.8\" font-family=\"Times,serif\" font-size=\"14.00\">grad 1.0000</text>\n</g>\n<!-- 140262344896384&#45;&gt;140262344890096+ -->\n<g id=\"edge8\" class=\"edge\">\n<title>140262344896384&#45;&gt;140262344890096+</title>\n<path fill=\"none\" stroke=\"black\" d=\"M863.4,-56.49C872.69,-54.83 881.64,-53.23 889.71,-51.79\"/>\n<polygon fill=\"black\" stroke=\"black\" points=\"890.53,-55.2 899.76,-50 889.31,-48.31 890.53,-55.2\"/>\n</g>\n<!-- 140262344896384*&#45;&gt;140262344896384 -->\n<g id=\"edge4\" class=\"edge\">\n<title>140262344896384*&#45;&gt;140262344896384</title>\n<path fill=\"none\" stroke=\"black\" d=\"M635.28,-73.5C642.78,-73.5 651.44,-73.5 660.67,-73.5\"/>\n<polygon fill=\"black\" stroke=\"black\" points=\"660.87,-77 670.87,-73.5 660.87,-70 660.87,-77\"/>\n</g>\n<!-- 140262344892352 -->\n<g id=\"node9\" class=\"node\">\n<title>140262344892352</title>\n<polygon fill=\"none\" stroke=\"black\" points=\"0,-0.5 0,-36.5 213,-36.5 213,-0.5 0,-0.5\"/>\n<text text-anchor=\"middle\" x=\"22\" y=\"-14.8\" font-family=\"Times,serif\" font-size=\"14.00\">input</text>\n<polyline fill=\"none\" stroke=\"black\" points=\"44,-0.5 44,-36.5 \"/>\n<text text-anchor=\"middle\" x=\"84\" y=\"-14.8\" font-family=\"Times,serif\" font-size=\"14.00\">data 2.0000</text>\n<polyline fill=\"none\" stroke=\"black\" points=\"124,-0.5 124,-36.5 \"/>\n<text text-anchor=\"middle\" x=\"168.5\" y=\"-14.8\" font-family=\"Times,serif\" font-size=\"14.00\">grad 15.0000</text>\n</g>\n<!-- 140262344892352&#45;&gt;140262344897584* -->\n<g id=\"edge5\" class=\"edge\">\n<title>140262344892352&#45;&gt;140262344897584*</title>\n<path fill=\"none\" stroke=\"black\" d=\"M167.03,-36.62C191.91,-44.2 219.93,-52.73 241.18,-59.2\"/>\n<polygon fill=\"black\" stroke=\"black\" points=\"240.44,-62.64 251.03,-62.2 242.48,-55.94 240.44,-62.64\"/>\n</g>\n<!-- 140262344892352&#45;&gt;140262344891632* -->\n<g id=\"edge10\" class=\"edge\">\n<title>140262344892352&#45;&gt;140262344891632*</title>\n<path fill=\"none\" stroke=\"black\" d=\"M213.16,-15.94C301.78,-14.23 431.67,-12.76 545,-15.5 553.43,-15.7 562.49,-16.06 571.01,-16.46\"/>\n<polygon fill=\"black\" stroke=\"black\" points=\"570.91,-19.96 581.07,-16.97 571.25,-12.97 570.91,-19.96\"/>\n</g>\n<!-- 140262344892400 -->\n<g id=\"node10\" class=\"node\">\n<title>140262344892400</title>\n<polygon fill=\"none\" stroke=\"black\" points=\"339,-24.5 339,-60.5 545,-60.5 545,-24.5 339,-24.5\"/>\n<text text-anchor=\"middle\" x=\"361\" y=\"-38.8\" font-family=\"Times,serif\" font-size=\"14.00\">input</text>\n<polyline fill=\"none\" stroke=\"black\" points=\"383,-24.5 383,-60.5 \"/>\n<text text-anchor=\"middle\" x=\"423\" y=\"-38.8\" font-family=\"Times,serif\" font-size=\"14.00\">data 3.0000</text>\n<polyline fill=\"none\" stroke=\"black\" points=\"463,-24.5 463,-60.5 \"/>\n<text text-anchor=\"middle\" x=\"504\" y=\"-38.8\" font-family=\"Times,serif\" font-size=\"14.00\">grad 6.0000</text>\n</g>\n<!-- 140262344892400&#45;&gt;140262344891632* -->\n<g id=\"edge7\" class=\"edge\">\n<title>140262344892400&#45;&gt;140262344891632*</title>\n<path fill=\"none\" stroke=\"black\" d=\"M545.47,-27.5C554.65,-26.16 563.47,-24.87 571.42,-23.71\"/>\n<polygon fill=\"black\" stroke=\"black\" points=\"571.94,-27.17 581.33,-22.26 570.93,-20.24 571.94,-27.17\"/>\n</g>\n<!-- 140262344892400&#45;&gt;140262344896384* -->\n<g id=\"edge11\" class=\"edge\">\n<title>140262344892400&#45;&gt;140262344896384*</title>\n<path fill=\"none\" stroke=\"black\" d=\"M538.4,-60.53C550.32,-62.79 561.86,-64.97 571.96,-66.88\"/>\n<polygon fill=\"black\" stroke=\"black\" points=\"571.45,-70.34 581.92,-68.76 572.75,-63.46 571.45,-70.34\"/>\n</g>\n</g>\n</svg>\n",
            "text/plain": [
              "<graphviz.graphs.Digraph at 0x7f915f3c2a10>"
            ]
          },
          "metadata": {},
          "execution_count": 4
        }
      ]
    }
  ]
}