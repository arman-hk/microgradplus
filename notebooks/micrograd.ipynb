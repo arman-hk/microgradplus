{
  "nbformat": 4,
  "nbformat_minor": 0,
  "metadata": {
    "colab": {
      "provenance": []
    },
    "kernelspec": {
      "name": "python3",
      "display_name": "Python 3"
    },
    "language_info": {
      "name": "python"
    },
    "gpuClass": "standard"
  },
  "cells": [
    {
      "cell_type": "markdown",
      "source": [
        "# Studying micrograd + Building it from scratch"
      ],
      "metadata": {
        "id": "-LwA0p6912E2"
      }
    },
    {
      "cell_type": "markdown",
      "source": [
        "# 7/5/2023"
      ],
      "metadata": {
        "id": "FcrjwDnWNPjy"
      }
    },
    {
      "cell_type": "markdown",
      "source": [
        "**Changes:**\n",
        "\n",
        "1. Added power function.\n",
        "2. Added new example that uses power function."
      ],
      "metadata": {
        "id": "e7-QZwiZ1kOH"
      }
    },
    {
      "cell_type": "code",
      "source": [
        "from math import exp\n",
        "import numpy as np"
      ],
      "metadata": {
        "id": "iN3Wgj9qgPdj"
      },
      "execution_count": 1,
      "outputs": []
    },
    {
      "cell_type": "code",
      "source": [
        "class Value:\n",
        "    def __init__(self, data, _children=(), _op=\"\"):\n",
        "        self.data = data\n",
        "        self.grad = 0.0\n",
        "        # internal variables\n",
        "        self._backward = lambda: None\n",
        "        self._prev = set(_children) # stores previous objects\n",
        "        self._op = _op # stores the operation\n",
        "    \n",
        "    def __repr__(self):\n",
        "        return f\"Value(data={self.data}, grad={self.grad})\" # stores the value and it's grad\n",
        "    \n",
        "    def __add__(self, other): # addition\n",
        "        out = Value(self.data + other.data, (self, other), '+')\n",
        "        other = other if isinstance(other, Value) else Value(other)\n",
        "        def _backward():\n",
        "            self.grad += 1.0 * out.grad\n",
        "            other.grad += 1.0 * out.grad\n",
        "        out._backward = _backward\n",
        "        return out\n",
        "\n",
        "    def __mul__(self, other): # multiplication\n",
        "        out = Value(self.data * other.data, (self, other), '*')\n",
        "        other = other if isinstance(other, Value) else Value(other)\n",
        "        def _backward():\n",
        "            self.grad += other.data * out.grad\n",
        "            other.grad += self.data * out.grad\n",
        "        out._backward = _backward\n",
        "        return out\n",
        "    \n",
        "    def __pow__(self, other):\n",
        "        assert isinstance(other, (int, float)), \"must be a number not a Value\"\n",
        "        out = Value(self.data ** other, (self,), '**')\n",
        "        def _backward():\n",
        "            self.grad += (other * self.data ** (other - 1)) * out.grad\n",
        "        out._backward = _backward\n",
        "        return out\n",
        "\n",
        "    \n",
        "    def backward(self): # performs backpropagation to calculate gradients for all the nodes\n",
        "    \n",
        "        # topological order\n",
        "        topo = []\n",
        "        visited = set()\n",
        "        def build_topo(v):\n",
        "            if v not in visited:\n",
        "                visited.add(v)\n",
        "                for child in v._prev:\n",
        "                    build_topo(child)\n",
        "                topo.append(v)\n",
        "        build_topo(self)\n",
        "        # applies chain rule one var at a time\n",
        "        self.grad = 1.0\n",
        "        for node in reversed(topo):\n",
        "            node._backward()"
      ],
      "metadata": {
        "id": "GmYKLa8S2Mkn"
      },
      "execution_count": 2,
      "outputs": []
    },
    {
      "cell_type": "code",
      "source": [
        "# an example\n",
        "\n",
        "x = Value(2.0)\n",
        "y = Value(3.0)\n",
        "\n",
        "x_2 = x ** 2\n",
        "xy = x * y\n",
        "\n",
        "# func\n",
        "z = xy + x_2\n",
        "\n",
        "# grads\n",
        "z.backward()\n",
        "\n",
        "# results\n",
        "print(f\"x: {x}\")\n",
        "print(f\"y: {y}\")\n",
        "print(f\"X_2: {x_2}\")\n",
        "print(f\"xy: {xy}\")\n",
        "print(f\"z: {z}\")"
      ],
      "metadata": {
        "colab": {
          "base_uri": "https://localhost:8080/"
        },
        "id": "O_qANNKhrmTn",
        "outputId": "7cfeca70-710a-4aa9-f515-c43a2a34e461"
      },
      "execution_count": 3,
      "outputs": [
        {
          "output_type": "stream",
          "name": "stdout",
          "text": [
            "x: Value(data=2.0, grad=7.0)\n",
            "y: Value(data=3.0, grad=2.0)\n",
            "X_2: Value(data=4.0, grad=1.0)\n",
            "xy: Value(data=6.0, grad=1.0)\n",
            "z: Value(data=10.0, grad=1.0)\n"
          ]
        }
      ]
    },
    {
      "cell_type": "code",
      "source": [
        "from graphviz import Digraph\n",
        "\n",
        "def trace(root): # builds a set of our nodes\n",
        "    nodes, edges = set(), set()\n",
        "\n",
        "    def build(v):\n",
        "        if v not in nodes:\n",
        "            nodes.add(v)\n",
        "            for child in v._prev:\n",
        "                edges.add((child, v))\n",
        "                build(child)\n",
        "\n",
        "    build(root)\n",
        "    return nodes, edges\n",
        "\n",
        "def draw_dot(root): # draws the SVG graph of our example\n",
        "    dot = Digraph(format='svg', graph_attr={'rankdir': 'LR'})\n",
        "    nodes, edges = trace(root)\n",
        "\n",
        "    for n in nodes:\n",
        "        uid = str(id(n))\n",
        "        op_label = n._op or \"input\"\n",
        "        dot.node(name=uid, label=\"{ %s | data %.4f | grad %.4f }\" % (op_label, n.data, n.grad), shape='record')\n",
        "\n",
        "        if n._op:\n",
        "            dot.node(name=uid + n._op, label=n._op)\n",
        "            dot.edge(uid + n._op, uid)\n",
        "\n",
        "    for n1, n2 in edges:\n",
        "        dot.edge(str(id(n1)), str(id(n2)) + n2._op)\n",
        "\n",
        "    return dot\n",
        "\n",
        "draw_dot(z)"
      ],
      "metadata": {
        "colab": {
          "base_uri": "https://localhost:8080/",
          "height": 154
        },
        "id": "wagzNqIoKQfY",
        "outputId": "7bbdae71-17c9-4d4e-867a-17c9ac4b18af"
      },
      "execution_count": 4,
      "outputs": [
        {
          "output_type": "execute_result",
          "data": {
            "image/svg+xml": "<?xml version=\"1.0\" encoding=\"UTF-8\" standalone=\"no\"?>\n<!DOCTYPE svg PUBLIC \"-//W3C//DTD SVG 1.1//EN\"\n \"http://www.w3.org/Graphics/SVG/1.1/DTD/svg11.dtd\">\n<!-- Generated by graphviz version 2.43.0 (0)\n -->\n<!-- Title: %3 Pages: 1 -->\n<svg width=\"852pt\" height=\"100pt\"\n viewBox=\"0.00 0.00 852.00 100.00\" xmlns=\"http://www.w3.org/2000/svg\" xmlns:xlink=\"http://www.w3.org/1999/xlink\">\n<g id=\"graph0\" class=\"graph\" transform=\"scale(1 1) rotate(0) translate(4 96)\">\n<title>%3</title>\n<polygon fill=\"white\" stroke=\"transparent\" points=\"-4,4 -4,-96 848,-96 848,4 -4,4\"/>\n<!-- 140356626408176 -->\n<g id=\"node1\" class=\"node\">\n<title>140356626408176</title>\n<polygon fill=\"none\" stroke=\"black\" points=\"332,-0.5 332,-36.5 524,-36.5 524,-0.5 332,-0.5\"/>\n<text text-anchor=\"middle\" x=\"347\" y=\"-14.8\" font-family=\"Times,serif\" font-size=\"14.00\">**</text>\n<polyline fill=\"none\" stroke=\"black\" points=\"362,-0.5 362,-36.5 \"/>\n<text text-anchor=\"middle\" x=\"402\" y=\"-14.8\" font-family=\"Times,serif\" font-size=\"14.00\">data 4.0000</text>\n<polyline fill=\"none\" stroke=\"black\" points=\"442,-0.5 442,-36.5 \"/>\n<text text-anchor=\"middle\" x=\"483\" y=\"-14.8\" font-family=\"Times,serif\" font-size=\"14.00\">grad 1.0000</text>\n</g>\n<!-- 140356626410384+ -->\n<g id=\"node8\" class=\"node\">\n<title>140356626410384+</title>\n<ellipse fill=\"none\" stroke=\"black\" cx=\"587\" cy=\"-45.5\" rx=\"27\" ry=\"18\"/>\n<text text-anchor=\"middle\" x=\"587\" y=\"-41.8\" font-family=\"Times,serif\" font-size=\"14.00\">+</text>\n</g>\n<!-- 140356626408176&#45;&gt;140356626410384+ -->\n<g id=\"edge4\" class=\"edge\">\n<title>140356626408176&#45;&gt;140356626410384+</title>\n<path fill=\"none\" stroke=\"black\" d=\"M524.4,-34.91C533.69,-36.5 542.64,-38.04 550.71,-39.43\"/>\n<polygon fill=\"black\" stroke=\"black\" points=\"550.32,-42.91 560.76,-41.16 551.5,-36.02 550.32,-42.91\"/>\n</g>\n<!-- 140356626408176** -->\n<g id=\"node2\" class=\"node\">\n<title>140356626408176**</title>\n<ellipse fill=\"none\" stroke=\"black\" cx=\"269\" cy=\"-18.5\" rx=\"27\" ry=\"18\"/>\n<text text-anchor=\"middle\" x=\"269\" y=\"-14.8\" font-family=\"Times,serif\" font-size=\"14.00\">**</text>\n</g>\n<!-- 140356626408176**&#45;&gt;140356626408176 -->\n<g id=\"edge1\" class=\"edge\">\n<title>140356626408176**&#45;&gt;140356626408176</title>\n<path fill=\"none\" stroke=\"black\" d=\"M296.28,-18.5C303.78,-18.5 312.44,-18.5 321.67,-18.5\"/>\n<polygon fill=\"black\" stroke=\"black\" points=\"321.87,-22 331.87,-18.5 321.87,-15 321.87,-22\"/>\n</g>\n<!-- 140356626408224 -->\n<g id=\"node3\" class=\"node\">\n<title>140356626408224</title>\n<polygon fill=\"none\" stroke=\"black\" points=\"0,-55.5 0,-91.5 206,-91.5 206,-55.5 0,-55.5\"/>\n<text text-anchor=\"middle\" x=\"22\" y=\"-69.8\" font-family=\"Times,serif\" font-size=\"14.00\">input</text>\n<polyline fill=\"none\" stroke=\"black\" points=\"44,-55.5 44,-91.5 \"/>\n<text text-anchor=\"middle\" x=\"84\" y=\"-69.8\" font-family=\"Times,serif\" font-size=\"14.00\">data 3.0000</text>\n<polyline fill=\"none\" stroke=\"black\" points=\"124,-55.5 124,-91.5 \"/>\n<text text-anchor=\"middle\" x=\"165\" y=\"-69.8\" font-family=\"Times,serif\" font-size=\"14.00\">grad 2.0000</text>\n</g>\n<!-- 140356626411344* -->\n<g id=\"node6\" class=\"node\">\n<title>140356626411344*</title>\n<ellipse fill=\"none\" stroke=\"black\" cx=\"269\" cy=\"-73.5\" rx=\"27\" ry=\"18\"/>\n<text text-anchor=\"middle\" x=\"269\" y=\"-69.8\" font-family=\"Times,serif\" font-size=\"14.00\">*</text>\n</g>\n<!-- 140356626408224&#45;&gt;140356626411344* -->\n<g id=\"edge6\" class=\"edge\">\n<title>140356626408224&#45;&gt;140356626411344*</title>\n<path fill=\"none\" stroke=\"black\" d=\"M206.47,-73.5C215.37,-73.5 223.93,-73.5 231.69,-73.5\"/>\n<polygon fill=\"black\" stroke=\"black\" points=\"231.72,-77 241.72,-73.5 231.72,-70 231.72,-77\"/>\n</g>\n<!-- 140356626408272 -->\n<g id=\"node4\" class=\"node\">\n<title>140356626408272</title>\n<polygon fill=\"none\" stroke=\"black\" points=\"0,-0.5 0,-36.5 206,-36.5 206,-0.5 0,-0.5\"/>\n<text text-anchor=\"middle\" x=\"22\" y=\"-14.8\" font-family=\"Times,serif\" font-size=\"14.00\">input</text>\n<polyline fill=\"none\" stroke=\"black\" points=\"44,-0.5 44,-36.5 \"/>\n<text text-anchor=\"middle\" x=\"84\" y=\"-14.8\" font-family=\"Times,serif\" font-size=\"14.00\">data 2.0000</text>\n<polyline fill=\"none\" stroke=\"black\" points=\"124,-0.5 124,-36.5 \"/>\n<text text-anchor=\"middle\" x=\"165\" y=\"-14.8\" font-family=\"Times,serif\" font-size=\"14.00\">grad 7.0000</text>\n</g>\n<!-- 140356626408272&#45;&gt;140356626408176** -->\n<g id=\"edge5\" class=\"edge\">\n<title>140356626408272&#45;&gt;140356626408176**</title>\n<path fill=\"none\" stroke=\"black\" d=\"M206.47,-18.5C215.37,-18.5 223.93,-18.5 231.69,-18.5\"/>\n<polygon fill=\"black\" stroke=\"black\" points=\"231.72,-22 241.72,-18.5 231.72,-15 231.72,-22\"/>\n</g>\n<!-- 140356626408272&#45;&gt;140356626411344* -->\n<g id=\"edge8\" class=\"edge\">\n<title>140356626408272&#45;&gt;140356626411344*</title>\n<path fill=\"none\" stroke=\"black\" d=\"M174.91,-36.56C185.41,-39.64 196.04,-42.99 206,-46.5 216.3,-50.13 227.29,-54.69 237.12,-59.02\"/>\n<polygon fill=\"black\" stroke=\"black\" points=\"235.94,-62.33 246.5,-63.23 238.81,-55.94 235.94,-62.33\"/>\n</g>\n<!-- 140356626411344 -->\n<g id=\"node5\" class=\"node\">\n<title>140356626411344</title>\n<polygon fill=\"none\" stroke=\"black\" points=\"335.5,-55.5 335.5,-91.5 520.5,-91.5 520.5,-55.5 335.5,-55.5\"/>\n<text text-anchor=\"middle\" x=\"347\" y=\"-69.8\" font-family=\"Times,serif\" font-size=\"14.00\">*</text>\n<polyline fill=\"none\" stroke=\"black\" points=\"358.5,-55.5 358.5,-91.5 \"/>\n<text text-anchor=\"middle\" x=\"398.5\" y=\"-69.8\" font-family=\"Times,serif\" font-size=\"14.00\">data 6.0000</text>\n<polyline fill=\"none\" stroke=\"black\" points=\"438.5,-55.5 438.5,-91.5 \"/>\n<text text-anchor=\"middle\" x=\"479.5\" y=\"-69.8\" font-family=\"Times,serif\" font-size=\"14.00\">grad 1.0000</text>\n</g>\n<!-- 140356626411344&#45;&gt;140356626410384+ -->\n<g id=\"edge7\" class=\"edge\">\n<title>140356626411344&#45;&gt;140356626410384+</title>\n<path fill=\"none\" stroke=\"black\" d=\"M520.78,-57.13C531.3,-55.26 541.48,-53.44 550.56,-51.82\"/>\n<polygon fill=\"black\" stroke=\"black\" points=\"551.42,-55.22 560.65,-50.02 550.19,-48.33 551.42,-55.22\"/>\n</g>\n<!-- 140356626411344*&#45;&gt;140356626411344 -->\n<g id=\"edge2\" class=\"edge\">\n<title>140356626411344*&#45;&gt;140356626411344</title>\n<path fill=\"none\" stroke=\"black\" d=\"M296.28,-73.5C304.68,-73.5 314.54,-73.5 325.02,-73.5\"/>\n<polygon fill=\"black\" stroke=\"black\" points=\"325.22,-77 335.22,-73.5 325.22,-70 325.22,-77\"/>\n</g>\n<!-- 140356626410384 -->\n<g id=\"node7\" class=\"node\">\n<title>140356626410384</title>\n<polygon fill=\"none\" stroke=\"black\" points=\"650,-27.5 650,-63.5 844,-63.5 844,-27.5 650,-27.5\"/>\n<text text-anchor=\"middle\" x=\"662.5\" y=\"-41.8\" font-family=\"Times,serif\" font-size=\"14.00\">+</text>\n<polyline fill=\"none\" stroke=\"black\" points=\"675,-27.5 675,-63.5 \"/>\n<text text-anchor=\"middle\" x=\"718.5\" y=\"-41.8\" font-family=\"Times,serif\" font-size=\"14.00\">data 10.0000</text>\n<polyline fill=\"none\" stroke=\"black\" points=\"762,-27.5 762,-63.5 \"/>\n<text text-anchor=\"middle\" x=\"803\" y=\"-41.8\" font-family=\"Times,serif\" font-size=\"14.00\">grad 1.0000</text>\n</g>\n<!-- 140356626410384+&#45;&gt;140356626410384 -->\n<g id=\"edge3\" class=\"edge\">\n<title>140356626410384+&#45;&gt;140356626410384</title>\n<path fill=\"none\" stroke=\"black\" d=\"M614.09,-45.5C621.62,-45.5 630.34,-45.5 639.63,-45.5\"/>\n<polygon fill=\"black\" stroke=\"black\" points=\"639.92,-49 649.92,-45.5 639.92,-42 639.92,-49\"/>\n</g>\n</g>\n</svg>\n",
            "text/plain": [
              "<graphviz.graphs.Digraph at 0x7fa752de5a80>"
            ]
          },
          "metadata": {},
          "execution_count": 4
        }
      ]
    }
  ]
}