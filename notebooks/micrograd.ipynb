{
  "nbformat": 4,
  "nbformat_minor": 0,
  "metadata": {
    "colab": {
      "provenance": []
    },
    "kernelspec": {
      "name": "python3",
      "display_name": "Python 3"
    },
    "language_info": {
      "name": "python"
    },
    "gpuClass": "standard"
  },
  "cells": [
    {
      "cell_type": "markdown",
      "source": [
        "# Studying micrograd + Building it from scratch"
      ],
      "metadata": {
        "id": "-LwA0p6912E2"
      }
    },
    {
      "cell_type": "markdown",
      "source": [
        "# 5/2/2023"
      ],
      "metadata": {
        "id": "FcrjwDnWNPjy"
      }
    },
    {
      "cell_type": "markdown",
      "source": [
        "**I've added the following**\n",
        "\n",
        "1. Graph visualization: I've added a visualization of the computational graph using the Graphviz library."
      ],
      "metadata": {
        "id": "e7-QZwiZ1kOH"
      }
    },
    {
      "cell_type": "code",
      "source": [
        "from math import exp\n",
        "import numpy as np"
      ],
      "metadata": {
        "id": "iN3Wgj9qgPdj"
      },
      "execution_count": 1,
      "outputs": []
    },
    {
      "cell_type": "code",
      "source": [
        "class Value:\n",
        "    def __init__(self, data, _children=(), _op=\"\"):\n",
        "        self.data = data\n",
        "        self.grad = 0.0\n",
        "\n",
        "        self._backward = lambda: None\n",
        "        self._prev = set(_children) # stores previous objects\n",
        "        self._op = _op # stores the operation\n",
        "    \n",
        "    def __repr__(self):\n",
        "        return f\"Value(data={self.data}, grad={self.grad})\" # stores the value and it's grad\n",
        "    \n",
        "    def __add__(self, other): # addition\n",
        "        out = Value(self.data + other.data, (self, other), '+')\n",
        "        \n",
        "        def _backward():\n",
        "            self.grad += 1.0 * out.grad\n",
        "            other.grad += 1.0 * out.grad\n",
        "        out._backward = _backward\n",
        "        return out\n",
        "\n",
        "    def __mul__(self, other): # multiplication\n",
        "        out = Value(self.data * other.data, (self, other), '*')\n",
        "    \n",
        "        def _backward():\n",
        "            self.grad += other.data * out.grad\n",
        "            other.grad += self.data * out.grad\n",
        "        out._backward = _backward\n",
        "        return out\n",
        "    \n",
        "    def tanh(self): # hyperbolic tangent function\n",
        "        x = self.data\n",
        "        t = (exp(2*x) - 1)/(exp(2*x) + 1)\n",
        "        out = Value(t, (self, ), 'tanh')\n",
        "    \n",
        "        def _backward():\n",
        "            self.grad += (1 - t**2) * out.grad\n",
        "        out._backward = _backward\n",
        "        return out\n",
        "    \n",
        "    def backward(self): # performs backpropagation to calculate gradients for all the nodes\n",
        "    \n",
        "        topo = []\n",
        "        visited = set()\n",
        "        def build_topo(v):\n",
        "            if v not in visited:\n",
        "                visited.add(v)\n",
        "                for child in v._prev:\n",
        "                    build_topo(child)\n",
        "                topo.append(v)\n",
        "        build_topo(self)\n",
        "    \n",
        "        self.grad = 1.0\n",
        "        for node in reversed(topo):\n",
        "            node._backward()"
      ],
      "metadata": {
        "id": "GmYKLa8S2Mkn"
      },
      "execution_count": 2,
      "outputs": []
    },
    {
      "cell_type": "code",
      "source": [
        "# an example\n",
        "\n",
        "x = Value(2.0)\n",
        "y = Value(3.0)\n",
        "\n",
        "x_2 = x * x\n",
        "x_2_y = x_2 * y\n",
        "xy = x * y\n",
        "tanh_xy = xy.tanh()\n",
        "# func\n",
        "z = x_2_y + tanh_xy\n",
        "\n",
        "# grads\n",
        "z.backward()\n",
        "\n",
        "# results\n",
        "print(f\"x: {x}\")\n",
        "print(f\"y: {y}\")\n",
        "print(f\"X_2: {x_2}\")\n",
        "print(f\"x_2_y: {x_2_y}\")\n",
        "print(f\"xy: {xy}\")\n",
        "print(f\"tanh_xy: {tanh_xy}\")\n",
        "print(f\"z: {z}\")"
      ],
      "metadata": {
        "colab": {
          "base_uri": "https://localhost:8080/"
        },
        "id": "O_qANNKhrmTn",
        "outputId": "346520ef-393f-43d8-b69c-ac62d4243a2a"
      },
      "execution_count": 3,
      "outputs": [
        {
          "output_type": "stream",
          "name": "stdout",
          "text": [
            "x: Value(data=2.0, grad=12.000073729642216)\n",
            "y: Value(data=3.0, grad=4.00004915309481)\n",
            "X_2: Value(data=4.0, grad=3.0)\n",
            "x_2_y: Value(data=12.0, grad=1.0)\n",
            "xy: Value(data=6.0, grad=2.4576547405286142e-05)\n",
            "tanh_xy: Value(data=0.9999877116507956, grad=1.0)\n",
            "z: Value(data=12.999987711650796, grad=1.0)\n"
          ]
        }
      ]
    },
    {
      "cell_type": "code",
      "source": [
        "from graphviz import Digraph\n",
        "\n",
        "def trace(root): # builds a set of our nodes\n",
        "    nodes, edges = set(), set()\n",
        "\n",
        "    def build(v):\n",
        "        if v not in nodes:\n",
        "            nodes.add(v)\n",
        "            for child in v._prev:\n",
        "                edges.add((child, v))\n",
        "                build(child)\n",
        "\n",
        "    build(root)\n",
        "    return nodes, edges\n",
        "\n",
        "def draw_dot(root): # draws the SVG graph of our example\n",
        "    dot = Digraph(format='svg', graph_attr={'rankdir': 'LR'})\n",
        "    nodes, edges = trace(root)\n",
        "\n",
        "    for n in nodes:\n",
        "        uid = str(id(n))\n",
        "        op_label = n._op or \"input\"\n",
        "        dot.node(name=uid, label=\"{ %s | data %.4f | grad %.4f }\" % (op_label, n.data, n.grad), shape='record')\n",
        "\n",
        "        if n._op:\n",
        "            dot.node(name=uid + n._op, label=n._op)\n",
        "            dot.edge(uid + n._op, uid)\n",
        "\n",
        "    for n1, n2 in edges:\n",
        "        dot.edge(str(id(n1)), str(id(n2)) + n2._op)\n",
        "\n",
        "    return dot\n",
        "\n",
        "draw_dot(z)"
      ],
      "metadata": {
        "colab": {
          "base_uri": "https://localhost:8080/",
          "height": 217
        },
        "id": "wagzNqIoKQfY",
        "outputId": "131f8972-f16d-468d-8eaf-b711435a58a0"
      },
      "execution_count": 4,
      "outputs": [
        {
          "output_type": "execute_result",
          "data": {
            "image/svg+xml": "<?xml version=\"1.0\" encoding=\"UTF-8\" standalone=\"no\"?>\n<!DOCTYPE svg PUBLIC \"-//W3C//DTD SVG 1.1//EN\"\n \"http://www.w3.org/Graphics/SVG/1.1/DTD/svg11.dtd\">\n<!-- Generated by graphviz version 2.43.0 (0)\n -->\n<!-- Title: %3 Pages: 1 -->\n<svg width=\"1180pt\" height=\"147pt\"\n viewBox=\"0.00 0.00 1180.00 147.00\" xmlns=\"http://www.w3.org/2000/svg\" xmlns:xlink=\"http://www.w3.org/1999/xlink\">\n<g id=\"graph0\" class=\"graph\" transform=\"scale(1 1) rotate(0) translate(4 143)\">\n<title>%3</title>\n<polygon fill=\"white\" stroke=\"transparent\" points=\"-4,4 -4,-143 1176,-143 1176,4 -4,4\"/>\n<!-- 140039323710464 -->\n<g id=\"node1\" class=\"node\">\n<title>140039323710464</title>\n<polygon fill=\"none\" stroke=\"black\" points=\"339,-102.5 339,-138.5 524,-138.5 524,-102.5 339,-102.5\"/>\n<text text-anchor=\"middle\" x=\"350.5\" y=\"-116.8\" font-family=\"Times,serif\" font-size=\"14.00\">*</text>\n<polyline fill=\"none\" stroke=\"black\" points=\"362,-102.5 362,-138.5 \"/>\n<text text-anchor=\"middle\" x=\"402\" y=\"-116.8\" font-family=\"Times,serif\" font-size=\"14.00\">data 4.0000</text>\n<polyline fill=\"none\" stroke=\"black\" points=\"442,-102.5 442,-138.5 \"/>\n<text text-anchor=\"middle\" x=\"483\" y=\"-116.8\" font-family=\"Times,serif\" font-size=\"14.00\">grad 3.0000</text>\n</g>\n<!-- 140039323712384* -->\n<g id=\"node12\" class=\"node\">\n<title>140039323712384*</title>\n<ellipse fill=\"none\" stroke=\"black\" cx=\"587\" cy=\"-18.5\" rx=\"27\" ry=\"18\"/>\n<text text-anchor=\"middle\" x=\"587\" y=\"-14.8\" font-family=\"Times,serif\" font-size=\"14.00\">*</text>\n</g>\n<!-- 140039323710464&#45;&gt;140039323712384* -->\n<g id=\"edge6\" class=\"edge\">\n<title>140039323710464&#45;&gt;140039323712384*</title>\n<path fill=\"none\" stroke=\"black\" d=\"M508.23,-102.49C513.77,-99.88 519.1,-96.9 524,-93.5 545.9,-78.29 542.72,-65.81 560,-45.5 561.3,-43.98 562.66,-42.43 564.05,-40.89\"/>\n<polygon fill=\"black\" stroke=\"black\" points=\"566.83,-43.03 571.09,-33.33 561.71,-38.26 566.83,-43.03\"/>\n</g>\n<!-- 140039323710464* -->\n<g id=\"node2\" class=\"node\">\n<title>140039323710464*</title>\n<ellipse fill=\"none\" stroke=\"black\" cx=\"276\" cy=\"-119.5\" rx=\"27\" ry=\"18\"/>\n<text text-anchor=\"middle\" x=\"276\" y=\"-115.8\" font-family=\"Times,serif\" font-size=\"14.00\">*</text>\n</g>\n<!-- 140039323710464*&#45;&gt;140039323710464 -->\n<g id=\"edge1\" class=\"edge\">\n<title>140039323710464*&#45;&gt;140039323710464</title>\n<path fill=\"none\" stroke=\"black\" d=\"M303.04,-119.67C310.58,-119.72 319.3,-119.78 328.57,-119.84\"/>\n<polygon fill=\"black\" stroke=\"black\" points=\"328.79,-123.34 338.81,-119.9 328.84,-116.34 328.79,-123.34\"/>\n</g>\n<!-- 140039323701392 -->\n<g id=\"node3\" class=\"node\">\n<title>140039323701392</title>\n<polygon fill=\"none\" stroke=\"black\" points=\"3.5,-23.5 3.5,-59.5 209.5,-59.5 209.5,-23.5 3.5,-23.5\"/>\n<text text-anchor=\"middle\" x=\"25.5\" y=\"-37.8\" font-family=\"Times,serif\" font-size=\"14.00\">input</text>\n<polyline fill=\"none\" stroke=\"black\" points=\"47.5,-23.5 47.5,-59.5 \"/>\n<text text-anchor=\"middle\" x=\"87.5\" y=\"-37.8\" font-family=\"Times,serif\" font-size=\"14.00\">data 3.0000</text>\n<polyline fill=\"none\" stroke=\"black\" points=\"127.5,-23.5 127.5,-59.5 \"/>\n<text text-anchor=\"middle\" x=\"168.5\" y=\"-37.8\" font-family=\"Times,serif\" font-size=\"14.00\">grad 4.0000</text>\n</g>\n<!-- 140039323704560* -->\n<g id=\"node7\" class=\"node\">\n<title>140039323704560*</title>\n<ellipse fill=\"none\" stroke=\"black\" cx=\"276\" cy=\"-65.5\" rx=\"27\" ry=\"18\"/>\n<text text-anchor=\"middle\" x=\"276\" y=\"-61.8\" font-family=\"Times,serif\" font-size=\"14.00\">*</text>\n</g>\n<!-- 140039323701392&#45;&gt;140039323704560* -->\n<g id=\"edge11\" class=\"edge\">\n<title>140039323701392&#45;&gt;140039323704560*</title>\n<path fill=\"none\" stroke=\"black\" d=\"M209.76,-56.15C220.33,-57.67 230.49,-59.12 239.52,-60.42\"/>\n<polygon fill=\"black\" stroke=\"black\" points=\"239.15,-63.9 249.55,-61.85 240.15,-56.97 239.15,-63.9\"/>\n</g>\n<!-- 140039323701392&#45;&gt;140039323712384* -->\n<g id=\"edge8\" class=\"edge\">\n<title>140039323701392&#45;&gt;140039323712384*</title>\n<path fill=\"none\" stroke=\"black\" d=\"M209.56,-36.59C316.34,-31.46 478.18,-23.68 549.76,-20.24\"/>\n<polygon fill=\"black\" stroke=\"black\" points=\"550.24,-23.72 560.06,-19.75 549.9,-16.73 550.24,-23.72\"/>\n</g>\n<!-- 140039323704992 -->\n<g id=\"node4\" class=\"node\">\n<title>140039323704992</title>\n<polygon fill=\"none\" stroke=\"black\" points=\"978,-27.5 978,-63.5 1172,-63.5 1172,-27.5 978,-27.5\"/>\n<text text-anchor=\"middle\" x=\"990.5\" y=\"-41.8\" font-family=\"Times,serif\" font-size=\"14.00\">+</text>\n<polyline fill=\"none\" stroke=\"black\" points=\"1003,-27.5 1003,-63.5 \"/>\n<text text-anchor=\"middle\" x=\"1046.5\" y=\"-41.8\" font-family=\"Times,serif\" font-size=\"14.00\">data 13.0000</text>\n<polyline fill=\"none\" stroke=\"black\" points=\"1090,-27.5 1090,-63.5 \"/>\n<text text-anchor=\"middle\" x=\"1131\" y=\"-41.8\" font-family=\"Times,serif\" font-size=\"14.00\">grad 1.0000</text>\n</g>\n<!-- 140039323704992+ -->\n<g id=\"node5\" class=\"node\">\n<title>140039323704992+</title>\n<ellipse fill=\"none\" stroke=\"black\" cx=\"915\" cy=\"-45.5\" rx=\"27\" ry=\"18\"/>\n<text text-anchor=\"middle\" x=\"915\" y=\"-41.8\" font-family=\"Times,serif\" font-size=\"14.00\">+</text>\n</g>\n<!-- 140039323704992+&#45;&gt;140039323704992 -->\n<g id=\"edge2\" class=\"edge\">\n<title>140039323704992+&#45;&gt;140039323704992</title>\n<path fill=\"none\" stroke=\"black\" d=\"M942.09,-45.5C949.62,-45.5 958.34,-45.5 967.63,-45.5\"/>\n<polygon fill=\"black\" stroke=\"black\" points=\"967.92,-49 977.92,-45.5 967.92,-42 967.92,-49\"/>\n</g>\n<!-- 140039323704560 -->\n<g id=\"node6\" class=\"node\">\n<title>140039323704560</title>\n<polygon fill=\"none\" stroke=\"black\" points=\"339,-47.5 339,-83.5 524,-83.5 524,-47.5 339,-47.5\"/>\n<text text-anchor=\"middle\" x=\"350.5\" y=\"-61.8\" font-family=\"Times,serif\" font-size=\"14.00\">*</text>\n<polyline fill=\"none\" stroke=\"black\" points=\"362,-47.5 362,-83.5 \"/>\n<text text-anchor=\"middle\" x=\"402\" y=\"-61.8\" font-family=\"Times,serif\" font-size=\"14.00\">data 6.0000</text>\n<polyline fill=\"none\" stroke=\"black\" points=\"442,-47.5 442,-83.5 \"/>\n<text text-anchor=\"middle\" x=\"483\" y=\"-61.8\" font-family=\"Times,serif\" font-size=\"14.00\">grad 0.0000</text>\n</g>\n<!-- 140039323704128tanh -->\n<g id=\"node9\" class=\"node\">\n<title>140039323704128tanh</title>\n<ellipse fill=\"none\" stroke=\"black\" cx=\"587\" cy=\"-72.5\" rx=\"27\" ry=\"18\"/>\n<text text-anchor=\"middle\" x=\"587\" y=\"-68.8\" font-family=\"Times,serif\" font-size=\"14.00\">tanh</text>\n</g>\n<!-- 140039323704560&#45;&gt;140039323704128tanh -->\n<g id=\"edge13\" class=\"edge\">\n<title>140039323704560&#45;&gt;140039323704128tanh</title>\n<path fill=\"none\" stroke=\"black\" d=\"M524.01,-69.67C533.01,-70.08 541.74,-70.48 549.66,-70.84\"/>\n<polygon fill=\"black\" stroke=\"black\" points=\"549.76,-74.35 559.91,-71.31 550.08,-67.36 549.76,-74.35\"/>\n</g>\n<!-- 140039323704560*&#45;&gt;140039323704560 -->\n<g id=\"edge3\" class=\"edge\">\n<title>140039323704560*&#45;&gt;140039323704560</title>\n<path fill=\"none\" stroke=\"black\" d=\"M303.04,-65.5C310.58,-65.5 319.3,-65.5 328.57,-65.5\"/>\n<polygon fill=\"black\" stroke=\"black\" points=\"328.81,-69 338.81,-65.5 328.81,-62 328.81,-69\"/>\n</g>\n<!-- 140039323704128 -->\n<g id=\"node8\" class=\"node\">\n<title>140039323704128</title>\n<polygon fill=\"none\" stroke=\"black\" points=\"650,-55.5 650,-91.5 852,-91.5 852,-55.5 650,-55.5\"/>\n<text text-anchor=\"middle\" x=\"670\" y=\"-69.8\" font-family=\"Times,serif\" font-size=\"14.00\">tanh</text>\n<polyline fill=\"none\" stroke=\"black\" points=\"690,-55.5 690,-91.5 \"/>\n<text text-anchor=\"middle\" x=\"730\" y=\"-69.8\" font-family=\"Times,serif\" font-size=\"14.00\">data 1.0000</text>\n<polyline fill=\"none\" stroke=\"black\" points=\"770,-55.5 770,-91.5 \"/>\n<text text-anchor=\"middle\" x=\"811\" y=\"-69.8\" font-family=\"Times,serif\" font-size=\"14.00\">grad 1.0000</text>\n</g>\n<!-- 140039323704128&#45;&gt;140039323704992+ -->\n<g id=\"edge12\" class=\"edge\">\n<title>140039323704128&#45;&gt;140039323704992+</title>\n<path fill=\"none\" stroke=\"black\" d=\"M852.29,-56.17C861.56,-54.56 870.48,-53.02 878.51,-51.63\"/>\n<polygon fill=\"black\" stroke=\"black\" points=\"879.25,-55.06 888.51,-49.91 878.06,-48.16 879.25,-55.06\"/>\n</g>\n<!-- 140039323704128tanh&#45;&gt;140039323704128 -->\n<g id=\"edge4\" class=\"edge\">\n<title>140039323704128tanh&#45;&gt;140039323704128</title>\n<path fill=\"none\" stroke=\"black\" d=\"M614.03,-72.66C621.52,-72.71 630.19,-72.76 639.46,-72.82\"/>\n<polygon fill=\"black\" stroke=\"black\" points=\"639.71,-76.32 649.73,-72.88 639.75,-69.32 639.71,-76.32\"/>\n</g>\n<!-- 140039323713392 -->\n<g id=\"node10\" class=\"node\">\n<title>140039323713392</title>\n<polygon fill=\"none\" stroke=\"black\" points=\"0,-89.5 0,-125.5 213,-125.5 213,-89.5 0,-89.5\"/>\n<text text-anchor=\"middle\" x=\"22\" y=\"-103.8\" font-family=\"Times,serif\" font-size=\"14.00\">input</text>\n<polyline fill=\"none\" stroke=\"black\" points=\"44,-89.5 44,-125.5 \"/>\n<text text-anchor=\"middle\" x=\"84\" y=\"-103.8\" font-family=\"Times,serif\" font-size=\"14.00\">data 2.0000</text>\n<polyline fill=\"none\" stroke=\"black\" points=\"124,-89.5 124,-125.5 \"/>\n<text text-anchor=\"middle\" x=\"168.5\" y=\"-103.8\" font-family=\"Times,serif\" font-size=\"14.00\">grad 12.0001</text>\n</g>\n<!-- 140039323713392&#45;&gt;140039323710464* -->\n<g id=\"edge10\" class=\"edge\">\n<title>140039323713392&#45;&gt;140039323710464*</title>\n<path fill=\"none\" stroke=\"black\" d=\"M213.11,-115.07C222.18,-115.72 230.88,-116.34 238.75,-116.9\"/>\n<polygon fill=\"black\" stroke=\"black\" points=\"238.69,-120.41 248.92,-117.63 239.19,-113.43 238.69,-120.41\"/>\n</g>\n<!-- 140039323713392&#45;&gt;140039323704560* -->\n<g id=\"edge9\" class=\"edge\">\n<title>140039323713392&#45;&gt;140039323704560*</title>\n<path fill=\"none\" stroke=\"black\" d=\"M179.51,-89.44C200.71,-84.13 222.93,-78.56 240.6,-74.13\"/>\n<polygon fill=\"black\" stroke=\"black\" points=\"241.58,-77.49 250.43,-71.66 239.88,-70.7 241.58,-77.49\"/>\n</g>\n<!-- 140039323712384 -->\n<g id=\"node11\" class=\"node\">\n<title>140039323712384</title>\n<polygon fill=\"none\" stroke=\"black\" points=\"655,-0.5 655,-36.5 847,-36.5 847,-0.5 655,-0.5\"/>\n<text text-anchor=\"middle\" x=\"666.5\" y=\"-14.8\" font-family=\"Times,serif\" font-size=\"14.00\">*</text>\n<polyline fill=\"none\" stroke=\"black\" points=\"678,-0.5 678,-36.5 \"/>\n<text text-anchor=\"middle\" x=\"721.5\" y=\"-14.8\" font-family=\"Times,serif\" font-size=\"14.00\">data 12.0000</text>\n<polyline fill=\"none\" stroke=\"black\" points=\"765,-0.5 765,-36.5 \"/>\n<text text-anchor=\"middle\" x=\"806\" y=\"-14.8\" font-family=\"Times,serif\" font-size=\"14.00\">grad 1.0000</text>\n</g>\n<!-- 140039323712384&#45;&gt;140039323704992+ -->\n<g id=\"edge7\" class=\"edge\">\n<title>140039323712384&#45;&gt;140039323704992+</title>\n<path fill=\"none\" stroke=\"black\" d=\"M847.17,-34.36C858.28,-36.21 869.02,-38 878.53,-39.59\"/>\n<polygon fill=\"black\" stroke=\"black\" points=\"878.25,-43.09 888.68,-41.28 879.4,-36.18 878.25,-43.09\"/>\n</g>\n<!-- 140039323712384*&#45;&gt;140039323712384 -->\n<g id=\"edge5\" class=\"edge\">\n<title>140039323712384*&#45;&gt;140039323712384</title>\n<path fill=\"none\" stroke=\"black\" d=\"M614.03,-18.5C622.95,-18.5 633.56,-18.5 644.86,-18.5\"/>\n<polygon fill=\"black\" stroke=\"black\" points=\"644.94,-22 654.94,-18.5 644.94,-15 644.94,-22\"/>\n</g>\n</g>\n</svg>\n",
            "text/plain": [
              "<graphviz.graphs.Digraph at 0x7f5d72232d70>"
            ]
          },
          "metadata": {},
          "execution_count": 4
        }
      ]
    }
  ]
}