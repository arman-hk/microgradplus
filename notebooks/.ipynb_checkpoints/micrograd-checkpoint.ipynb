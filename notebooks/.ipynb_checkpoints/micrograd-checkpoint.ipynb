{
 "cells": [
  {
   "cell_type": "markdown",
   "metadata": {
    "id": "-LwA0p6912E2"
   },
   "source": [
    "# Studying micrograd + Building it from scratch"
   ]
  },
  {
   "cell_type": "markdown",
   "metadata": {
    "id": "FcrjwDnWNPjy"
   },
   "source": [
    "# 5/10/2023"
   ]
  },
  {
   "cell_type": "markdown",
   "metadata": {
    "id": "e7-QZwiZ1kOH"
   },
   "source": [
    "**Changes:**\n",
    "\n",
    "1. Added negative function and subtraction.\n",
    "2. Added new example that uses all the math functions so far."
   ]
  },
  {
   "cell_type": "code",
   "execution_count": 1,
   "metadata": {
    "id": "iN3Wgj9qgPdj"
   },
   "outputs": [],
   "source": [
    "from math import exp\n",
    "import numpy as np"
   ]
  },
  {
   "cell_type": "code",
   "execution_count": 2,
   "metadata": {
    "id": "GmYKLa8S2Mkn"
   },
   "outputs": [],
   "source": [
    "class Value:\n",
    "    def __init__(self, data, _children=(), _op=\"\"):\n",
    "        self.data = data\n",
    "        self.grad = 0.0\n",
    "        # internal variables\n",
    "        self._backward = lambda: None\n",
    "        self._prev = set(_children) # stores previous objects\n",
    "        self._op = _op # stores the operation\n",
    "    \n",
    "    def __add__(self, other): # addition\n",
    "        out = Value(self.data + other.data, (self, other), '+')\n",
    "        other = other if isinstance(other, Value) else Value(other)\n",
    "        def _backward():\n",
    "            self.grad += 1.0 * out.grad\n",
    "            other.grad += 1.0 * out.grad\n",
    "        out._backward = _backward\n",
    "        return out\n",
    "\n",
    "    def __mul__(self, other): # multiplication\n",
    "        out = Value(self.data * other.data, (self, other), '*')\n",
    "        other = other if isinstance(other, Value) else Value(other)\n",
    "        def _backward():\n",
    "            self.grad += other.data * out.grad\n",
    "            other.grad += self.data * out.grad\n",
    "        out._backward = _backward\n",
    "        return out\n",
    "    \n",
    "    def __pow__(self, other): # power function\n",
    "        assert isinstance(other, (int, float)), \"must be a number not a Value\"\n",
    "        out = Value(self.data ** other, (self,), \"**\")\n",
    "        def _backward():\n",
    "            self.grad += (other * self.data ** (other - 1)) * out.grad\n",
    "        out._backward = _backward\n",
    "        return out\n",
    "\n",
    "    def relu(self): # relu function\n",
    "        out = Value(0 if self.data < 0 else self.data, (self,), \"ReLU\")\n",
    "        def _backward():\n",
    "            self.grad += (out.data > 0) * out.grad\n",
    "        out._backward = _backward\n",
    "        return out\n",
    "    \n",
    "    def backward(self): # performs backpropagation to calculate gradients for all the nodes\n",
    "    \n",
    "        # topological order\n",
    "        topo = []\n",
    "        visited = set()\n",
    "        def build_topo(v):\n",
    "            if v not in visited:\n",
    "                visited.add(v)\n",
    "                for child in v._prev:\n",
    "                    build_topo(child)\n",
    "                topo.append(v)\n",
    "        build_topo(self)\n",
    "        # applies chain rule one var at a time\n",
    "        self.grad = 1.0\n",
    "        for node in reversed(topo):\n",
    "            node._backward()\n",
    "    \n",
    "    def __neg__(self): # negative function\n",
    "        out = Value(self.data * -1, (self,), \"neg\")\n",
    "        def _backward():\n",
    "            self.grad -= out.grad\n",
    "        out._backward = _backward\n",
    "        return out\n",
    "    \n",
    "    def __sub__(self, other): # subtraction\n",
    "        out = Value(self.data - other.data, (self, other), \"-\")\n",
    "        def _backward():\n",
    "            self.grad += 1.0 * out.grad\n",
    "            other.grad -= 1.0 * out.grad\n",
    "        out._backward = _backward\n",
    "        return out\n",
    "    \n",
    "    def __repr__(self):\n",
    "        return f\"Value(data={self.data}, grad={self.grad})\" # stores the value and it's grad"
   ]
  },
  {
   "cell_type": "code",
   "execution_count": 3,
   "metadata": {
    "colab": {
     "base_uri": "https://localhost:8080/"
    },
    "id": "O_qANNKhrmTn",
    "outputId": "59033a21-b675-43fc-d32d-cc1e96c7e30d"
   },
   "outputs": [
    {
     "name": "stdout",
     "output_type": "stream",
     "text": [
      "x: Value(data=2.0, grad=0.0)\n",
      "y: Value(data=3.0, grad=-2.0)\n",
      "X_2: Value(data=4.0, grad=1.0)\n",
      "xy: Value(data=6.0, grad=-1.0)\n",
      "nx: Value(data=-2.0, grad=1.0)\n",
      "z: Value(data=-4.0, grad=1.0)\n"
     ]
    }
   ],
   "source": [
    "# an example\n",
    "\n",
    "x = Value(2.0)\n",
    "y = Value(3.0)\n",
    "\n",
    "x_2 = x ** 2\n",
    "xy = x * y\n",
    "nx = -x\n",
    "\n",
    "# func\n",
    "z = x_2 - xy + nx\n",
    "\n",
    "# grads\n",
    "z.backward()\n",
    "\n",
    "# results\n",
    "print(f\"x: {x}\")\n",
    "print(f\"y: {y}\")\n",
    "print(f\"X_2: {x_2}\")\n",
    "print(f\"xy: {xy}\")\n",
    "print(f\"nx: {nx}\")\n",
    "print(f\"z: {z}\")"
   ]
  }
 ],
 "metadata": {
  "colab": {
   "provenance": []
  },
  "gpuClass": "standard",
  "kernelspec": {
   "display_name": "Python 3 (ipykernel)",
   "language": "python",
   "name": "python3"
  },
  "language_info": {
   "codemirror_mode": {
    "name": "ipython",
    "version": 3
   },
   "file_extension": ".py",
   "mimetype": "text/x-python",
   "name": "python",
   "nbconvert_exporter": "python",
   "pygments_lexer": "ipython3",
   "version": "3.9.16"
  }
 },
 "nbformat": 4,
 "nbformat_minor": 1
}
